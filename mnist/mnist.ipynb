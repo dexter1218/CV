{
 "cells": [
  {
   "cell_type": "code",
   "execution_count": 1,
   "id": "389cbcee",
   "metadata": {},
   "outputs": [
    {
     "name": "stderr",
     "output_type": "stream",
     "text": [
      "c:\\users\\dexter\\pycharmprojects\\pythonproject2\\venv\\lib\\site-packages\\torchvision\\io\\image.py:11: UserWarning: Failed to load image Python extension: [WinError 127] 找不到指定的程序。\n",
      "  warn(f\"Failed to load image Python extension: {e}\")\n"
     ]
    }
   ],
   "source": [
    "import torch \n",
    "from torch.utils import data # 获取迭代数据\n",
    "from torch.autograd import Variable # 获取变量\n",
    "import torchvision\n",
    "from torchvision.datasets import mnist # 获取数据集和数据预处理\n",
    "import matplotlib.pyplot as plt\n"
   ]
  },
  {
   "cell_type": "code",
   "execution_count": 2,
   "id": "fb9a46ed",
   "metadata": {},
   "outputs": [
    {
     "name": "stdout",
     "output_type": "stream",
     "text": [
      "Downloading http://yann.lecun.com/exdb/mnist/train-images-idx3-ubyte.gz\n",
      "Downloading http://yann.lecun.com/exdb/mnist/train-images-idx3-ubyte.gz to C:\\Users\\dexter\\Desktop\\mnist\\MNIST\\raw\\train-images-idx3-ubyte.gz\n"
     ]
    },
    {
     "data": {
      "application/vnd.jupyter.widget-view+json": {
       "model_id": "bbf0406925cb4fee907bc3a56431720a",
       "version_major": 2,
       "version_minor": 0
      },
      "text/plain": [
       "  0%|          | 0/9912422 [00:00<?, ?it/s]"
      ]
     },
     "metadata": {},
     "output_type": "display_data"
    },
    {
     "name": "stdout",
     "output_type": "stream",
     "text": [
      "Extracting C:\\Users\\dexter\\Desktop\\mnist\\MNIST\\raw\\train-images-idx3-ubyte.gz to C:\\Users\\dexter\\Desktop\\mnist\\MNIST\\raw\n",
      "\n",
      "Downloading http://yann.lecun.com/exdb/mnist/train-labels-idx1-ubyte.gz\n",
      "Downloading http://yann.lecun.com/exdb/mnist/train-labels-idx1-ubyte.gz to C:\\Users\\dexter\\Desktop\\mnist\\MNIST\\raw\\train-labels-idx1-ubyte.gz\n"
     ]
    },
    {
     "data": {
      "application/vnd.jupyter.widget-view+json": {
       "model_id": "43532bc38d034240b706d0e6cafc111a",
       "version_major": 2,
       "version_minor": 0
      },
      "text/plain": [
       "  0%|          | 0/28881 [00:00<?, ?it/s]"
      ]
     },
     "metadata": {},
     "output_type": "display_data"
    },
    {
     "name": "stdout",
     "output_type": "stream",
     "text": [
      "Extracting C:\\Users\\dexter\\Desktop\\mnist\\MNIST\\raw\\train-labels-idx1-ubyte.gz to C:\\Users\\dexter\\Desktop\\mnist\\MNIST\\raw\n",
      "\n",
      "Downloading http://yann.lecun.com/exdb/mnist/t10k-images-idx3-ubyte.gz\n",
      "Downloading http://yann.lecun.com/exdb/mnist/t10k-images-idx3-ubyte.gz to C:\\Users\\dexter\\Desktop\\mnist\\MNIST\\raw\\t10k-images-idx3-ubyte.gz\n"
     ]
    },
    {
     "data": {
      "application/vnd.jupyter.widget-view+json": {
       "model_id": "5a183b502ba0415c8d9aedfdb8aa2936",
       "version_major": 2,
       "version_minor": 0
      },
      "text/plain": [
       "  0%|          | 0/1648877 [00:00<?, ?it/s]"
      ]
     },
     "metadata": {},
     "output_type": "display_data"
    },
    {
     "name": "stdout",
     "output_type": "stream",
     "text": [
      "Extracting C:\\Users\\dexter\\Desktop\\mnist\\MNIST\\raw\\t10k-images-idx3-ubyte.gz to C:\\Users\\dexter\\Desktop\\mnist\\MNIST\\raw\n",
      "\n",
      "Downloading http://yann.lecun.com/exdb/mnist/t10k-labels-idx1-ubyte.gz\n",
      "Downloading http://yann.lecun.com/exdb/mnist/t10k-labels-idx1-ubyte.gz to C:\\Users\\dexter\\Desktop\\mnist\\MNIST\\raw\\t10k-labels-idx1-ubyte.gz\n"
     ]
    },
    {
     "data": {
      "application/vnd.jupyter.widget-view+json": {
       "model_id": "5a21b788af8d470e990ff1215632e16a",
       "version_major": 2,
       "version_minor": 0
      },
      "text/plain": [
       "  0%|          | 0/4542 [00:00<?, ?it/s]"
      ]
     },
     "metadata": {},
     "output_type": "display_data"
    },
    {
     "name": "stdout",
     "output_type": "stream",
     "text": [
      "Extracting C:\\Users\\dexter\\Desktop\\mnist\\MNIST\\raw\\t10k-labels-idx1-ubyte.gz to C:\\Users\\dexter\\Desktop\\mnist\\MNIST\\raw\n",
      "\n"
     ]
    }
   ],
   "source": [
    "# 数据集的预处理\n",
    "data_tf = torchvision.transforms.Compose(\n",
    "    [\n",
    "        torchvision.transforms.ToTensor(),\n",
    "        torchvision.transforms.Normalize([0.5],[0.5])\n",
    "    ]\n",
    ")\n",
    "\n",
    "data_path = r'C:\\Users\\dexter\\Desktop\\mnist'\n",
    "# 获取数据集\n",
    "train_data = mnist.MNIST(data_path,train=True,transform=None,download=True)\n",
    "test_data = mnist.MNIST(data_path,train=False,transform=None,download=True)\n"
   ]
  },
  {
   "cell_type": "code",
   "execution_count": 5,
   "id": "7f27e02b",
   "metadata": {},
   "outputs": [
    {
     "data": {
      "image/png": "[encoded data removed]",
      "text/plain": [
       "<PIL.Image.Image image mode=L size=28x28 at 0x2773F36AB50>"
      ]
     },
     "execution_count": 5,
     "metadata": {},
     "output_type": "execute_result"
    }
   ],
   "source": [
    "train_data[0][0]"
   ]
  },
  {
   "cell_type": "code",
   "execution_count": 4,
   "id": "028ee113",
   "metadata": {},
   "outputs": [
    {
     "data": {
      "text/plain": [
       "Dataset MNIST\n",
       "    Number of datapoints: 10000\n",
       "    Root location: C:\\Users\\dexter\\Desktop\\mnist\n",
       "    Split: Test"
      ]
     },
     "execution_count": 4,
     "metadata": {},
     "output_type": "execute_result"
    }
   ],
   "source": [
    "test_data"
   ]
  },
  {
   "cell_type": "code",
   "execution_count": 6,
   "id": "a0ebb141",
   "metadata": {},
   "outputs": [],
   "source": [
    "# 数据集的预处理\n",
    "data_tf = torchvision.transforms.Compose(\n",
    "    [\n",
    "        torchvision.transforms.ToTensor(),\n",
    "        torchvision.transforms.Normalize([0.5],[0.5])\n",
    "    ]\n",
    ")\n",
    "\n",
    "data_path =  r'C:\\Users\\dexter\\Desktop\\mnist'\n",
    "# 获取数据集\n",
    "train_data = mnist.MNIST(data_path,train=True,transform=data_tf,download=True)\n",
    "test_data = mnist.MNIST(data_path,train=False,transform=data_tf,download=True)\n",
    "\n"
   ]
  },
  {
   "cell_type": "code",
   "execution_count": 7,
   "id": "8dbd8b24",
   "metadata": {},
   "outputs": [],
   "source": [
    "batch_size=32\n",
    "train_loader = data.DataLoader(train_data,batch_size=batch_size,shuffle=True,pin_memory=True)\n",
    "test_loader = data.DataLoader(test_data,batch_size=batch_size)\n"
   ]
  },
  {
   "cell_type": "code",
   "execution_count": 8,
   "id": "938ec752",
   "metadata": {},
   "outputs": [],
   "source": [
    "#导入相关的包\n",
    "import torch.nn as nn#网络结构\n",
    "import torch.nn.functional as F\n",
    "import torch.optim as optim#优化器\n"
   ]
  },
  {
   "cell_type": "code",
   "execution_count": 9,
   "id": "a29e4de3",
   "metadata": {},
   "outputs": [],
   "source": [
    "class CNN(nn.Module):\n",
    "    def __init__(self):\n",
    "        super(CNN,self).__init__()\n",
    "        self.conv1=nn.Conv2d(1,20,5,1)\n",
    "        self.conv2=nn.Conv2d(20,50,5,1)\n",
    "        self.fc1=nn.Linear(4*4*50,500)\n",
    "        self.fc2=nn.Linear(500,10)\n",
    "    def forward(self,x):\n",
    "        #x是一个batch_size的数据\n",
    "        #x:1*28*28\n",
    "        x=F.relu(self.conv1(x))\n",
    "        #20*24*24\n",
    "        x=F.max_pool2d(x,2,2)\n",
    "        #20*12*12\n",
    "        x=F.relu(self.conv2(x))\n",
    "        #50*8*8\n",
    "        x=F.max_pool2d(x,2,2)\n",
    "        #50*4*4\n",
    "        x=x.view(-1,50*4*4)\n",
    "        #压扁成了行向量，(1,50*4*4)\n",
    "        x=F.relu(self.fc1(x))\n",
    "        #(1,500)\n",
    "        x=self.fc2(x)\n",
    "        #(1,10)\n",
    "        return F.log_softmax(x,dim=1)      \n"
   ]
  },
  {
   "cell_type": "code",
   "execution_count": 10,
   "id": "d69d8c5b",
   "metadata": {},
   "outputs": [],
   "source": [
    "lr=0.01#学习率\n",
    "momentum=0.5\n",
    "device=torch.device(\"cuda\" if torch.cuda.is_available() else \"cpu\" )\n",
    "model=CNN().to(device)\n",
    "optimizer=optim.SGD(model.parameters(),lr=lr,momentum=momentum)\n"
   ]
  },
  {
   "cell_type": "code",
   "execution_count": 11,
   "id": "a6c2ea02",
   "metadata": {},
   "outputs": [],
   "source": [
    "def train(model,device,train_loader,optimizer,epoch,losses):\n",
    "    model.train()\n",
    "    for idx,(t_data,t_target) in enumerate(train_loader):\n",
    "        t_data,t_target=t_data.to(device),t_target.to(device)\n",
    "        pred=model(t_data)#batch_size*10\n",
    "        loss=F.nll_loss(pred,t_target)\n",
    "        \n",
    "        #SGD\n",
    "        optimizer.zero_grad()#将上一步的梯度清0\n",
    "        loss.backward()#重新计算梯度\n",
    "        optimizer.step()#更新参数\n",
    "        if idx%100==0:\n",
    "            print(\"epoch:{},iteration:{},loss:{}\".format(epoch,idx,loss.item()))\n",
    "            losses.append(loss.item()) #每100批数据采样一次loss，记录下来，用来画图可视化分析。    \n"
   ]
  },
  {
   "cell_type": "code",
   "execution_count": 12,
   "id": "3280e8c8",
   "metadata": {},
   "outputs": [
    {
     "name": "stdout",
     "output_type": "stream",
     "text": [
      "epoch:0,iteration:0,loss:2.2959845066070557\n",
      "epoch:0,iteration:100,loss:1.6976501941680908\n",
      "epoch:0,iteration:200,loss:0.48518824577331543\n",
      "epoch:0,iteration:300,loss:0.4518811106681824\n",
      "epoch:0,iteration:400,loss:0.7433546781539917\n",
      "epoch:0,iteration:500,loss:0.24810059368610382\n",
      "epoch:0,iteration:600,loss:0.2881802022457123\n",
      "epoch:0,iteration:700,loss:0.2251397669315338\n",
      "epoch:0,iteration:800,loss:0.16591134667396545\n",
      "epoch:0,iteration:900,loss:0.20017556846141815\n",
      "epoch:0,iteration:1000,loss:0.06958632916212082\n",
      "epoch:0,iteration:1100,loss:0.04407820105552673\n",
      "epoch:0,iteration:1200,loss:0.31965371966362\n",
      "epoch:0,iteration:1300,loss:0.057501111179590225\n",
      "epoch:0,iteration:1400,loss:0.03024725429713726\n",
      "epoch:0,iteration:1500,loss:0.05093846842646599\n",
      "epoch:0,iteration:1600,loss:0.14045585691928864\n",
      "epoch:0,iteration:1700,loss:0.02726849727332592\n",
      "epoch:0,iteration:1800,loss:0.06216919794678688\n",
      "epoch:1,iteration:0,loss:0.04598299786448479\n",
      "epoch:1,iteration:100,loss:0.06869325786828995\n",
      "epoch:1,iteration:200,loss:0.017085842788219452\n",
      "epoch:1,iteration:300,loss:0.038647428154945374\n",
      "epoch:1,iteration:400,loss:0.2564345598220825\n",
      "epoch:1,iteration:500,loss:0.025249343365430832\n",
      "epoch:1,iteration:600,loss:0.030077071860432625\n",
      "epoch:1,iteration:700,loss:0.030233871191740036\n",
      "epoch:1,iteration:800,loss:0.13323596119880676\n",
      "epoch:1,iteration:900,loss:0.23330873250961304\n",
      "epoch:1,iteration:1000,loss:0.021931976079940796\n",
      "epoch:1,iteration:1100,loss:0.010112662799656391\n",
      "epoch:1,iteration:1200,loss:0.18699708580970764\n",
      "epoch:1,iteration:1300,loss:0.0483131930232048\n",
      "epoch:1,iteration:1400,loss:0.027605704963207245\n",
      "epoch:1,iteration:1500,loss:0.028468038886785507\n",
      "epoch:1,iteration:1600,loss:0.06295760720968246\n",
      "epoch:1,iteration:1700,loss:0.07031846791505814\n",
      "epoch:1,iteration:1800,loss:0.06368236988782883\n"
     ]
    }
   ],
   "source": [
    "num_epochs=2\n",
    "losses=[]#记录起来用来画图的，可以画出损失随着迭代次数而下降。\n",
    "from time import *\n",
    "begin_time=time()#测试我们的模型训练要花多久。\n",
    "for epoch in range(num_epochs):\n",
    "    train(model,device,train_loader,optimizer,epoch,losses)\n",
    "end_time=time()\n"
   ]
  },
  {
   "cell_type": "code",
   "execution_count": 14,
   "id": "338657b7",
   "metadata": {},
   "outputs": [
    {
     "data": {
      "image/png": "[encoded data removed]",
      "text/plain": [
       "<Figure size 1600x640 with 1 Axes>"
      ]
     },
     "metadata": {
      "needs_background": "light"
     },
     "output_type": "display_data"
    },
    {
     "data": {
      "text/plain": [
       "67.01875734329224"
      ]
     },
     "execution_count": 14,
     "metadata": {},
     "output_type": "execute_result"
    }
   ],
   "source": [
    "import matplotlib.pyplot as plt\n",
    "len_l=len(losses)\n",
    "x=[i for i in range(len_l)]\n",
    "figure=plt.figure(figsize=(20,8),dpi=80)\n",
    "plt.plot(x,losses)\n",
    "plt.show()\n",
    "-begin_time + end_time"
   ]
  },
  {
   "cell_type": "code",
   "execution_count": 16,
   "id": "723fb733",
   "metadata": {},
   "outputs": [],
   "source": [
    "def test(model,device,test_loader):\n",
    "    model.eval()\n",
    "    correct=0#预测对了几个。\n",
    "    with torch.no_grad():\n",
    "        for idx,(t_data,t_target) in enumerate(test_loader):\n",
    "            t_data,t_target=t_data.to(device),t_target.to(device)\n",
    "            pred=model(t_data)#batch_size*10\n",
    "            pred_class=pred.argmax(dim=1)#batch_size*10->batch_size*1\n",
    "            correct+=pred_class.eq(t_target.view_as(pred_class)).sum().item()\n",
    "    acc=correct/len(test_data)\n",
    "    print(\"accuracy:{},\".format(acc))\n",
    "\n"
   ]
  },
  {
   "cell_type": "code",
   "execution_count": 17,
   "id": "bb5010f0",
   "metadata": {},
   "outputs": [
    {
     "name": "stdout",
     "output_type": "stream",
     "text": [
      "accuracy:0.9838,\n"
     ]
    }
   ],
   "source": [
    "test(model,device,test_loader)\n"
   ]
  },
  {
   "cell_type": "code",
   "execution_count": null,
   "id": "f24c3331",
   "metadata": {},
   "outputs": [],
   "source": []
  }
 ],
 "metadata": {
  "kernelspec": {
   "display_name": "Python 3 (ipykernel)",
   "language": "python",
   "name": "python3"
  },
  "language_info": {
   "codemirror_mode": {
    "name": "ipython",
    "version": 3
   },
   "file_extension": ".py",
   "mimetype": "text/x-python",
   "name": "python",
   "nbconvert_exporter": "python",
   "pygments_lexer": "ipython3",
   "version": "3.9.5"
  }
 },
 "nbformat": 4,
 "nbformat_minor": 5
}
